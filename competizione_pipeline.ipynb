{
 "cells": [
  {
   "cell_type": "code",
   "execution_count": 1,
   "id": "2a243d5d-2c05-420c-b7dc-8e5dcebd1145",
   "metadata": {},
   "outputs": [],
   "source": [
    "#libraries\n",
    "import pandas as pd\n",
    "import numpy as np\n",
    "import sklearn\n",
    "import warnings\n",
    "warnings.filterwarnings('ignore')\n",
    "#preprocessing\n",
    "from sklearn.preprocessing import MinMaxScaler, StandardScaler\n",
    "from sklearn.model_selection import train_test_split,cross_val_score,StratifiedKFold,GridSearchCV,RandomizedSearchCV\n",
    "from sklearn.decomposition import PCA\n",
    "from imblearn.pipeline import make_pipeline\n",
    "from sklearn.pipeline import Pipeline\n",
    "from sklearn.metrics import accuracy_score\n",
    "\n",
    "#metrics\n",
    "from sklearn.metrics import roc_auc_score,plot_roc_curve,classification_report\n",
    "\n",
    "#viz\n",
    "import seaborn as sns\n",
    "import matplotlib.pyplot as plt\n",
    "\n",
    "#models\n",
    "from sklearn.neighbors import KNeighborsClassifier\n",
    "from sklearn.tree import DecisionTreeClassifier\n",
    "from sklearn.linear_model import LogisticRegression\n",
    "from sklearn.ensemble import RandomForestClassifier\n",
    "from xgboost import XGBClassifier\n",
    "from sklearn.neural_network import MLPClassifier\n",
    "\n",
    "#colors\n",
    "custom_colors = [\"#70D6FF\",\"#FF70A6\",\"#FF9770\",\"#FFD670\",\"#E9FF70\"]"
   ]
  },
  {
   "cell_type": "code",
   "execution_count": 2,
   "id": "52550e83-56d2-4abc-b236-2a904508374d",
   "metadata": {},
   "outputs": [
    {
     "name": "stdout",
     "output_type": "stream",
     "text": [
      "0.24.1\n"
     ]
    }
   ],
   "source": [
    "print (sklearn.__version__)"
   ]
  },
  {
   "cell_type": "code",
   "execution_count": 3,
   "id": "588c387d-fd06-4a0a-88b2-c553daefc042",
   "metadata": {},
   "outputs": [],
   "source": [
    "df_train = pd.read_csv(r\"C:\\Users\\kevda\\OneDrive\\Desktop\\data set\\train.csv\").drop('Id', axis=1)\n",
    "df_test = pd.read_csv(r\"C:\\Users\\kevda\\OneDrive\\Desktop\\data set\\test.csv\").drop('Id', axis=1)\n",
    "submission = pd.read_csv(r\"C:\\Users\\kevda\\OneDrive\\Desktop\\data set\\sample_submission.csv\")"
   ]
  },
  {
   "cell_type": "code",
   "execution_count": 4,
   "id": "d64df051-f312-44b6-b4fd-0df21b4e06da",
   "metadata": {},
   "outputs": [
    {
     "name": "stdout",
     "output_type": "stream",
     "text": [
      "Index(['Elevation', 'Aspect', 'Slope', 'Horizontal_Distance_To_Hydrology',\n",
      "       'Vertical_Distance_To_Hydrology', 'Horizontal_Distance_To_Roadways',\n",
      "       'Hillshade_9am', 'Hillshade_Noon', 'Hillshade_3pm',\n",
      "       'Horizontal_Distance_To_Fire_Points', 'Wilderness_Area1',\n",
      "       'Wilderness_Area2', 'Wilderness_Area3', 'Wilderness_Area4',\n",
      "       'Soil_Type1', 'Soil_Type2', 'Soil_Type3', 'Soil_Type4', 'Soil_Type5',\n",
      "       'Soil_Type6', 'Soil_Type7', 'Soil_Type8', 'Soil_Type9', 'Soil_Type10',\n",
      "       'Soil_Type11', 'Soil_Type12', 'Soil_Type13', 'Soil_Type14',\n",
      "       'Soil_Type15', 'Soil_Type16', 'Soil_Type17', 'Soil_Type18',\n",
      "       'Soil_Type19', 'Soil_Type20', 'Soil_Type21', 'Soil_Type22',\n",
      "       'Soil_Type23', 'Soil_Type24', 'Soil_Type25', 'Soil_Type26',\n",
      "       'Soil_Type27', 'Soil_Type28', 'Soil_Type29', 'Soil_Type30',\n",
      "       'Soil_Type31', 'Soil_Type32', 'Soil_Type33', 'Soil_Type34',\n",
      "       'Soil_Type35', 'Soil_Type36', 'Soil_Type37', 'Soil_Type38',\n",
      "       'Soil_Type39', 'Soil_Type40', 'Cover_Type'],\n",
      "      dtype='object')\n",
      "-------------------------------\n",
      "(4000000, 55)\n",
      "-------------------------------\n",
      "0\n",
      "-------------------------------\n",
      "[dtype('int64')]\n"
     ]
    }
   ],
   "source": [
    "print (df_train.columns)\n",
    "print ('-------------------------------')\n",
    "print (df_train.shape)\n",
    "print ('-------------------------------')\n",
    "print (df_train.isna().any().sum())\n",
    "print ('-------------------------------')\n",
    "print(df_train.dtypes.unique())"
   ]
  },
  {
   "cell_type": "code",
   "execution_count": 5,
   "id": "78136ff4-bd1b-4ec5-92c2-499d2ae36d2c",
   "metadata": {},
   "outputs": [
    {
     "name": "stdout",
     "output_type": "stream",
     "text": [
      "[1 2 3 6 7 4 5]\n",
      "-------------------------------\n",
      "2    2262087\n",
      "1    1468136\n",
      "3     195712\n",
      "7      62261\n",
      "6      11426\n",
      "4        377\n",
      "5          1\n",
      "Name: Cover_Type, dtype: int64\n",
      "-------------------------------\n",
      "AxesSubplot(0.125,0.125;0.775x0.755)\n"
     ]
    },
    {
     "data": {
      "image/png": "[encoded data removed]",
      "text/plain": [
       "<Figure size 432x288 with 1 Axes>"
      ]
     },
     "metadata": {
      "needs_background": "light"
     },
     "output_type": "display_data"
    }
   ],
   "source": [
    "print (df_train['Cover_Type'].unique())\n",
    "print ('-------------------------------')\n",
    "print (df_train['Cover_Type'].value_counts())\n",
    "print ('-------------------------------')\n",
    "print (df_train['Cover_Type'].value_counts().plot(kind = 'bar'))"
   ]
  },
  {
   "cell_type": "code",
   "execution_count": 6,
   "id": "2d8a8f8c-2e5b-48c5-b6e6-cc72ad11d9d7",
   "metadata": {},
   "outputs": [],
   "source": [
    "def reduce_mem_usage(df, verbose=True):\n",
    "    numerics = ['int16', 'int32', 'int64', 'float16', 'float32', 'float64']\n",
    "    start_mem = df.memory_usage().sum() / 1024**2    \n",
    "    for col in df.columns:\n",
    "        col_type = df[col].dtypes\n",
    "        if col_type in numerics:\n",
    "            c_min = df[col].min()\n",
    "            c_max = df[col].max()\n",
    "            if str(col_type)[:3] == 'int':\n",
    "                if c_min > np.iinfo(np.int8).min and c_max < np.iinfo(np.int8).max:\n",
    "                    df[col] = df[col].astype(np.int8)\n",
    "                elif c_min > np.iinfo(np.int16).min and c_max < np.iinfo(np.int16).max:\n",
    "                    df[col] = df[col].astype(np.int16)\n",
    "                elif c_min > np.iinfo(np.int32).min and c_max < np.iinfo(np.int32).max:\n",
    "                    df[col] = df[col].astype(np.int32)\n",
    "                elif c_min > np.iinfo(np.int64).min and c_max < np.iinfo(np.int64).max:\n",
    "                    df[col] = df[col].astype(np.int64)  \n",
    "            else:\n",
    "                if c_min > np.finfo(np.float32).min and c_max < np.finfo(np.float32).max:\n",
    "                    df[col] = df[col].astype(np.float32)\n",
    "                else:\n",
    "                    df[col] = df[col].astype(np.float64)    \n",
    "    end_mem = df.memory_usage().sum() / 1024**2\n",
    "    if verbose: print('Mem. usage decreased to {:5.2f} Mb ({:.1f}% reduction)'.format(end_mem, 100 * (start_mem - end_mem) / start_mem))"
   ]
  },
  {
   "cell_type": "code",
   "execution_count": 7,
   "id": "ebebbb93-f6da-4944-9d08-ac4cf98d1596",
   "metadata": {},
   "outputs": [
    {
     "name": "stdout",
     "output_type": "stream",
     "text": [
      "Mem. usage to 1678.47 Mb (0.0% reduction)\n",
      "Mem. usage decreased to 244.14 Mb (85.5% reduction)\n"
     ]
    }
   ],
   "source": [
    "start_mem = df_train.memory_usage().sum() / 1024**2\n",
    "end_mem = df_train.memory_usage().sum() / 1024**2\n",
    "print('Mem. usage to {:5.2f} Mb ({:.1f}% reduction)'.format(end_mem, 100 * (start_mem - end_mem) / start_mem))\n",
    "reduce_mem_usage(df_train)"
   ]
  },
  {
   "cell_type": "code",
   "execution_count": 8,
   "id": "668b63f3-f52d-4cf6-a87f-5ddcc595af74",
   "metadata": {},
   "outputs": [
    {
     "name": "stdout",
     "output_type": "stream",
     "text": [
      "Soil_Type7\n",
      "Soil_Type15\n"
     ]
    }
   ],
   "source": [
    "for c in df_train.columns:\n",
    "    if len(df_train[c].unique()) == 1:\n",
    "        print(c)"
   ]
  },
  {
   "cell_type": "code",
   "execution_count": 9,
   "id": "79434703-05a0-4de8-8b8e-04548f2b8854",
   "metadata": {},
   "outputs": [
    {
     "data": {
      "image/png": "[encoded data removed]",
      "text/plain": [
       "<Figure size 792x792 with 2 Axes>"
      ]
     },
     "metadata": {
      "needs_background": "light"
     },
     "output_type": "display_data"
    }
   ],
   "source": [
    "plt.figure(figsize = (11,11))\n",
    "corr = df_train.corr()\n",
    "mask = np.triu(np.ones_like(corr, dtype=bool))\n",
    "sns.heatmap(corr, mask=mask, cmap=custom_colors, robust=True, center=0,square=True, linewidths =.6)\n",
    "plt.title('Correlation')\n",
    "plt.show()"
   ]
  },
  {
   "cell_type": "code",
   "execution_count": 62,
   "id": "e3973324-04d5-4f25-aeb1-07cee072e016",
   "metadata": {},
   "outputs": [
    {
     "data": {
      "text/plain": [
       "(360000, 55)"
      ]
     },
     "execution_count": 62,
     "metadata": {},
     "output_type": "execute_result"
    }
   ],
   "source": [
    "df = df_train.sample(frac=0.09, random_state=50)\n",
    "df.shape"
   ]
  },
  {
   "cell_type": "code",
   "execution_count": 63,
   "id": "e0a72c1f-3a4b-458d-b2c9-621c8a8b23a3",
   "metadata": {},
   "outputs": [],
   "source": [
    "X = df.drop('Cover_Type', axis=1)\n",
    "Y = df['Cover_Type']"
   ]
  },
  {
   "cell_type": "code",
   "execution_count": 64,
   "id": "9a3292e1-b4a0-4636-b138-ac75fb8edbdd",
   "metadata": {},
   "outputs": [],
   "source": [
    "X_train, X_test, Y_train, Y_test = train_test_split(X,Y,test_size=0.02, random_state=50)"
   ]
  },
  {
   "cell_type": "code",
   "execution_count": 65,
   "id": "a3de5bd2-a566-4368-a029-47c755e8de19",
   "metadata": {},
   "outputs": [
    {
     "name": "stdout",
     "output_type": "stream",
     "text": [
      "(352800, 54)\n",
      "(7200, 54)\n"
     ]
    }
   ],
   "source": [
    "print (X_train.shape)\n",
    "print (X_test.shape)"
   ]
  },
  {
   "cell_type": "code",
   "execution_count": 66,
   "id": "f986b879-a201-4b86-b5b6-5e6e08f76911",
   "metadata": {},
   "outputs": [],
   "source": [
    "pipeNN = make_pipeline(StandardScaler(),\n",
    "                       PCA(),\n",
    "                     MLPClassifier()\n",
    "                     )"
   ]
  },
  {
   "cell_type": "code",
   "execution_count": 67,
   "id": "c038922a-5bc3-494a-9d1d-b2c0f5965958",
   "metadata": {},
   "outputs": [],
   "source": [
    "pipeDt = make_pipeline(StandardScaler(),\n",
    "                     PCA(),\n",
    "                     DecisionTreeClassifier()\n",
    "                     )"
   ]
  },
  {
   "cell_type": "code",
   "execution_count": 68,
   "id": "8cc81c16-909e-45d6-8719-ef5278fd0e03",
   "metadata": {},
   "outputs": [],
   "source": [
    "pipeRf = make_pipeline(StandardScaler(),\n",
    "                     PCA(),\n",
    "                     RandomForestClassifier()\n",
    "                     )"
   ]
  },
  {
   "cell_type": "code",
   "execution_count": 69,
   "id": "eb8a84e6-9c7b-418e-975b-52ca716ecfd9",
   "metadata": {},
   "outputs": [],
   "source": [
    "pipeXgb = make_pipeline(StandardScaler(),\n",
    "                     PCA(),\n",
    "                     XGBClassifier()\n",
    "                     )"
   ]
  },
  {
   "cell_type": "code",
   "execution_count": 70,
   "id": "20eab40e-d58c-4944-a88e-cbddc490b0c3",
   "metadata": {},
   "outputs": [],
   "source": [
    "pipelines = [pipeNN,pipeDt,pipeRf,pipeXgb]\n",
    "pipe_map = {0:'NN',1:'Decision Tree',2:'RandomForest', 3:'XGB'}"
   ]
  },
  {
   "cell_type": "code",
   "execution_count": 71,
   "id": "f2cc9bff-a2be-4eb5-9525-73afa53eb170",
   "metadata": {},
   "outputs": [],
   "source": [
    "best_accuracy=0.0\n",
    "best_classifier=0\n",
    "best_pipe=''"
   ]
  },
  {
   "cell_type": "code",
   "execution_count": 72,
   "id": "bb4a452c-17b6-4162-b3cb-b9ede907547f",
   "metadata": {},
   "outputs": [
    {
     "name": "stdout",
     "output_type": "stream",
     "text": [
      "[12:37:51] WARNING: C:/Users/Administrator/workspace/xgboost-win64_release_1.5.1/src/learner.cc:1115: Starting in XGBoost 1.3.0, the default evaluation metric used with the objective 'multi:softprob' was changed from 'merror' to 'mlogloss'. Explicitly set eval_metric if you'd like to restore the old behavior.\n"
     ]
    }
   ],
   "source": [
    "for pipe in pipelines:\n",
    "    pipe.fit(X_train,Y_train)"
   ]
  },
  {
   "cell_type": "code",
   "execution_count": null,
   "id": "94b1c71b-3153-4c27-9122-3516d6565168",
   "metadata": {},
   "outputs": [],
   "source": [
    "for i,model in enumerate(pipelines):\n",
    "    print ('{} test accuracy: {}'.format(pipe_map[i], model.score(X_test)*100))"
   ]
  },
  {
   "cell_type": "code",
   "execution_count": 73,
   "id": "8e54ed4a-c50e-4075-a444-3590dc27d084",
   "metadata": {},
   "outputs": [],
   "source": [
    "Y_pred = pipeXgb.predict(X_test)"
   ]
  },
  {
   "cell_type": "code",
   "execution_count": 74,
   "id": "96ebd20b-90cf-42bb-894a-49adfe357a44",
   "metadata": {},
   "outputs": [
    {
     "name": "stdout",
     "output_type": "stream",
     "text": [
      "Accuracy Score on test data set: 0.9238888888888889\n"
     ]
    }
   ],
   "source": [
    "test_score = accuracy_score(Y_test, Y_pred)\n",
    "print('Accuracy Score on test data set:', test_score)"
   ]
  },
  {
   "cell_type": "code",
   "execution_count": 75,
   "id": "a577a4d9-2ae3-472c-9c97-39469d61bbfd",
   "metadata": {},
   "outputs": [
    {
     "name": "stdout",
     "output_type": "stream",
     "text": [
      "              precision    recall  f1-score   support\n",
      "\n",
      "           1       0.90      0.93      0.92      2665\n",
      "           2       0.95      0.94      0.94      4046\n",
      "           3       0.89      0.85      0.87       351\n",
      "           6       0.55      0.32      0.40        19\n",
      "           7       0.67      0.61      0.64       119\n",
      "\n",
      "    accuracy                           0.92      7200\n",
      "   macro avg       0.79      0.73      0.75      7200\n",
      "weighted avg       0.92      0.92      0.92      7200\n",
      "\n"
     ]
    }
   ],
   "source": [
    "print(classification_report(Y_test, Y_pred))"
   ]
  },
  {
   "cell_type": "code",
   "execution_count": 76,
   "id": "63c16489-0bcf-4070-9269-9ce5319da7de",
   "metadata": {},
   "outputs": [],
   "source": [
    "submission['Cover_Type'] = pipeXgb.predict(df_test)"
   ]
  },
  {
   "cell_type": "code",
   "execution_count": 77,
   "id": "0d10fae5-bbd3-449e-9473-66e718285da1",
   "metadata": {},
   "outputs": [
    {
     "data": {
      "text/html": [
       "<div>\n",
       "<style scoped>\n",
       "    .dataframe tbody tr th:only-of-type {\n",
       "        vertical-align: middle;\n",
       "    }\n",
       "\n",
       "    .dataframe tbody tr th {\n",
       "        vertical-align: top;\n",
       "    }\n",
       "\n",
       "    .dataframe thead th {\n",
       "        text-align: right;\n",
       "    }\n",
       "</style>\n",
       "<table border=\"1\" class=\"dataframe\">\n",
       "  <thead>\n",
       "    <tr style=\"text-align: right;\">\n",
       "      <th></th>\n",
       "      <th>Id</th>\n",
       "      <th>Cover_Type</th>\n",
       "    </tr>\n",
       "  </thead>\n",
       "  <tbody>\n",
       "    <tr>\n",
       "      <th>0</th>\n",
       "      <td>4000000</td>\n",
       "      <td>2</td>\n",
       "    </tr>\n",
       "    <tr>\n",
       "      <th>1</th>\n",
       "      <td>4000001</td>\n",
       "      <td>2</td>\n",
       "    </tr>\n",
       "    <tr>\n",
       "      <th>2</th>\n",
       "      <td>4000002</td>\n",
       "      <td>2</td>\n",
       "    </tr>\n",
       "    <tr>\n",
       "      <th>3</th>\n",
       "      <td>4000003</td>\n",
       "      <td>2</td>\n",
       "    </tr>\n",
       "    <tr>\n",
       "      <th>4</th>\n",
       "      <td>4000004</td>\n",
       "      <td>2</td>\n",
       "    </tr>\n",
       "  </tbody>\n",
       "</table>\n",
       "</div>"
      ],
      "text/plain": [
       "        Id  Cover_Type\n",
       "0  4000000           2\n",
       "1  4000001           2\n",
       "2  4000002           2\n",
       "3  4000003           2\n",
       "4  4000004           2"
      ]
     },
     "execution_count": 77,
     "metadata": {},
     "output_type": "execute_result"
    }
   ],
   "source": [
    "submission.head(5)"
   ]
  },
  {
   "cell_type": "code",
   "execution_count": 78,
   "id": "6f8bc0a7-fe3d-44d8-ad67-ad8c06917020",
   "metadata": {},
   "outputs": [],
   "source": [
    "submission.to_csv(\"submission6.csv\", index=False)"
   ]
  },
  {
   "cell_type": "code",
   "execution_count": null,
   "id": "3edb051a-e6f2-42b8-94f9-aef9cc365168",
   "metadata": {},
   "outputs": [],
   "source": []
  },
  {
   "cell_type": "code",
   "execution_count": null,
   "id": "22a1cd42-6eac-4bb9-b70c-990297cabc7a",
   "metadata": {},
   "outputs": [],
   "source": []
  }
 ],
 "metadata": {
  "kernelspec": {
   "display_name": "Python 3",
   "language": "python",
   "name": "python3"
  },
  "language_info": {
   "codemirror_mode": {
    "name": "ipython",
    "version": 3
   },
   "file_extension": ".py",
   "mimetype": "text/x-python",
   "name": "python",
   "nbconvert_exporter": "python",
   "pygments_lexer": "ipython3",
   "version": "3.8.8"
  }
 },
 "nbformat": 4,
 "nbformat_minor": 5
}
