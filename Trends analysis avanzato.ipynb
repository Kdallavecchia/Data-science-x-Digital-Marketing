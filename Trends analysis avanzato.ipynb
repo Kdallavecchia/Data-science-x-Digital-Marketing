{
 "cells": [
  {
   "cell_type": "code",
   "execution_count": 1,
   "id": "7df0faf3-acca-4489-a8fa-535632819fb5",
   "metadata": {},
   "outputs": [],
   "source": [
    "from pytrends.request import TrendReq\n",
    "import matplotlib.pyplot as plt\n",
    "#importo la libreria"
   ]
  },
  {
   "cell_type": "code",
   "execution_count": 2,
   "id": "3525e2d8-f433-4778-bbc2-c0b699965f09",
   "metadata": {},
   "outputs": [],
   "source": [
    "from pytrends.request import TrendReq\n",
    "pytrends = TrendReq(hl='it-IT')\n",
    "#definisco lingua e importo"
   ]
  },
  {
   "cell_type": "code",
   "execution_count": 13,
   "id": "093ed946-94d8-4ea4-8022-16a33d778aa1",
   "metadata": {},
   "outputs": [],
   "source": [
    "all_keywords = ['caramelle','Gomma da masticare','cioccolatini']\n",
    "keywords = []\n",
    "\n",
    "timeframes = ['today 5-y', 'today 12-m',\n",
    "              'today 3-m', 'today 1-m']\n",
    "cat = '0'\n",
    "geo = 'IT'\n",
    "gprop = ''\n",
    "#imposto i parametri"
   ]
  },
  {
   "cell_type": "code",
   "execution_count": 14,
   "id": "e597b36a-9673-46c9-a9f5-da8202021e4e",
   "metadata": {},
   "outputs": [],
   "source": [
    "#definisco la funzione\n",
    "def check_trend():\n",
    "    pytrends.build_payload(keywords,\n",
    "                           cat, \n",
    "                           timeframes[0], \n",
    "                           geo, \n",
    "                           gprop)\n",
    "    \n",
    "    df=pytrends.interest_over_time().drop('isPartial',axis=1)\n",
    "    mean=round(df.mean(),2)#media totale\n",
    "    avg=round(df[kw][-52:].mean(),2)#media dell'ultimo anno\n",
    "    avg2=round(df[kw][:52].mean(),2)#media del 1 anno\n",
    "    trend=round(((avg/mean[kw])-1)*100,2)#tendenza dell'ultimo anno\n",
    "    trend2=round(((avg/avg2)-1)*100,2)#tendenza tra il primo anno e l'ultimo\n",
    "    #info di base\n",
    "    print ('---------------' + kw + '---------------')\n",
    "    print ('la media dell interesse di 5 anni della kw ' + kw + ' è ' + str(mean[kw]))\n",
    "    print (\"l'interesse della kw dell'ultimo anno rispetto alla media è \" + str(avg))\n",
    "    print ('il trend di 5 anni della kw ' + kw + ' è ' + str(trend) + '%')\n",
    "    print (\"il trend dell'ultimo anno della kw \" + kw + ' è ' + str(trend2) + '%')\n",
    "    #se il trend è stabile\n",
    "    if mean[kw] > 75 and abs(trend) <= 5:\n",
    "        print('interesse della ' + kw + ' è stabile negli ultimi 5 anni')\n",
    "    elif mean[kw] > 75 and (trend) > 5:\n",
    "        print('interesse della ' + kw + ' è stabile e sta aumentando leggermente negli ultimi 5 anni')\n",
    "    elif mean[kw] > 75 and (trend) < -5:\n",
    "        print('interesse della ' + kw + ' è stabile ma sta diminuendo leggermente negli ultimi 5 anni')\n",
    "    #se il trend è relativamente stabile\n",
    "    elif mean[kw] > 60 and abs(trend) <= 15:\n",
    "        print('interesse della ' + kw + ' è relativamente stabile negli ultimi 5 anni')\n",
    "    elif mean[kw] > 60 and (trend) > 15:\n",
    "        print('interesse della ' + kw + ' è relativamente stabile e sta aumentando negli ultimi 5 anni')\n",
    "    elif mean[kw] > 60 and (trend) < -15:\n",
    "        print('interesse della ' + kw + ' è relativamente stabile ma sta diminuendo negli ultimi 5 anni')\n",
    "    #se è una nuovo trend\n",
    "    elif mean[kw] > 20 and (trend) > 15:\n",
    "        print('la kw ' + kw + ' è un nuovo trend')\n",
    "    #se è in declino\n",
    "    elif mean[kw] > 20 and (trend) < -15:\n",
    "        print('la kw ' + kw + ' è in declino')\n",
    "    #se la kw è ciclica\n",
    "    elif mean[kw] > 5 and abs(trend) <= 15:\n",
    "        print('la kw ' + kw + ' è in ciclica')\n",
    "    #se la kw è nuova\n",
    "    elif mean[kw] > 0 and (trend) > 15:\n",
    "        print('la kw ' + kw + ' è un nuova e in trend')\n",
    "    elif mean[kw] > 0 and (trend) < 15:\n",
    "        print('la kw ' + kw + ' è un nuova ma sta morendo')\n",
    "    #altro\n",
    "    else:\n",
    "        print('dacci un controllo manuale')"
   ]
  },
  {
   "cell_type": "code",
   "execution_count": 15,
   "id": "c7613a17-255b-4566-933d-40ff0fd7419d",
   "metadata": {},
   "outputs": [
    {
     "name": "stdout",
     "output_type": "stream",
     "text": [
      "---------------caramelle---------------\n",
      "la media dell interesse di 5 anni della kw caramelle è 50.81\n",
      "l'interesse della kw dell'ultimo anno rispetto alla media è 55.0\n",
      "il trend di 5 anni della kw caramelle è 8.25%\n",
      "il trend dell'ultimo anno della kw caramelle è 9.78%\n",
      "la kw caramelle è in ciclica\n",
      "---------------Gomma da masticare---------------\n",
      "la media dell interesse di 5 anni della kw Gomma da masticare è 38.46\n",
      "l'interesse della kw dell'ultimo anno rispetto alla media è 35.1\n",
      "il trend di 5 anni della kw Gomma da masticare è -8.74%\n",
      "il trend dell'ultimo anno della kw Gomma da masticare è -8.59%\n",
      "la kw Gomma da masticare è in ciclica\n",
      "---------------cioccolatini---------------\n",
      "la media dell interesse di 5 anni della kw cioccolatini è 30.82\n",
      "l'interesse della kw dell'ultimo anno rispetto alla media è 33.77\n",
      "il trend di 5 anni della kw cioccolatini è 9.57%\n",
      "il trend dell'ultimo anno della kw cioccolatini è 29.98%\n",
      "la kw cioccolatini è in ciclica\n"
     ]
    }
   ],
   "source": [
    "#creazione ciclo for per gestire ogni kw\n",
    "for kw in all_keywords:\n",
    "    keywords.append(kw)\n",
    "    check_trend()\n",
    "    keywords.pop()"
   ]
  },
  {
   "cell_type": "code",
   "execution_count": 16,
   "id": "dfbe8bc3-8240-4d0d-93b4-63fb3987fd7c",
   "metadata": {},
   "outputs": [
    {
     "data": {
      "text/plain": [
       "['Solarize_Light2',\n",
       " '_classic_test_patch',\n",
       " 'bmh',\n",
       " 'classic',\n",
       " 'dark_background',\n",
       " 'fast',\n",
       " 'fivethirtyeight',\n",
       " 'ggplot',\n",
       " 'grayscale',\n",
       " 'seaborn',\n",
       " 'seaborn-bright',\n",
       " 'seaborn-colorblind',\n",
       " 'seaborn-dark',\n",
       " 'seaborn-dark-palette',\n",
       " 'seaborn-darkgrid',\n",
       " 'seaborn-deep',\n",
       " 'seaborn-muted',\n",
       " 'seaborn-notebook',\n",
       " 'seaborn-paper',\n",
       " 'seaborn-pastel',\n",
       " 'seaborn-poster',\n",
       " 'seaborn-talk',\n",
       " 'seaborn-ticks',\n",
       " 'seaborn-white',\n",
       " 'seaborn-whitegrid',\n",
       " 'tableau-colorblind10']"
      ]
     },
     "execution_count": 16,
     "metadata": {},
     "output_type": "execute_result"
    }
   ],
   "source": [
    "plt.style.available"
   ]
  },
  {
   "cell_type": "code",
   "execution_count": 17,
   "id": "fd1921b8-4209-45cd-a656-7165e5a2540e",
   "metadata": {},
   "outputs": [],
   "source": [
    "plt.style.use('bmh')"
   ]
  },
  {
   "cell_type": "code",
   "execution_count": 18,
   "id": "88585833-3344-4465-bf16-3d3dd830dc60",
   "metadata": {},
   "outputs": [],
   "source": [
    "def comparazione():\n",
    "    pytrends.build_payload(all_keywords,\n",
    "                           cat, \n",
    "                           timeframes[0], \n",
    "                           geo, \n",
    "                           gprop)\n",
    "    df=pytrends.interest_over_time().drop('isPartial',axis=1)\n",
    "    mean = df.mean()\n",
    "    mean = round(mean/mean.max()*100,2)\n",
    "    print(mean)\n",
    "    "
   ]
  },
  {
   "cell_type": "code",
   "execution_count": 19,
   "id": "ff4ae469-0dd5-49c0-97bb-a8924b5c23e1",
   "metadata": {},
   "outputs": [
    {
     "name": "stdout",
     "output_type": "stream",
     "text": [
      "caramelle             100.00\n",
      "Gomma da masticare      3.45\n",
      "cioccolatini           34.48\n",
      "dtype: float64\n"
     ]
    }
   ],
   "source": [
    "comparazione()"
   ]
  },
  {
   "cell_type": "code",
   "execution_count": null,
   "id": "6e734952-e134-4dd0-8e3f-2375b689a56a",
   "metadata": {},
   "outputs": [],
   "source": []
  },
  {
   "cell_type": "code",
   "execution_count": null,
   "id": "c7e595b5-fc21-40ae-87e6-ea295403f564",
   "metadata": {},
   "outputs": [],
   "source": []
  },
  {
   "cell_type": "code",
   "execution_count": null,
   "id": "3944318e-8f0d-4704-9c73-d8a1336fba19",
   "metadata": {},
   "outputs": [],
   "source": []
  }
 ],
 "metadata": {
  "kernelspec": {
   "display_name": "Python 3",
   "language": "python",
   "name": "python3"
  },
  "language_info": {
   "codemirror_mode": {
    "name": "ipython",
    "version": 3
   },
   "file_extension": ".py",
   "mimetype": "text/x-python",
   "name": "python",
   "nbconvert_exporter": "python",
   "pygments_lexer": "ipython3",
   "version": "3.8.8"
  }
 },
 "nbformat": 4,
 "nbformat_minor": 5
}
