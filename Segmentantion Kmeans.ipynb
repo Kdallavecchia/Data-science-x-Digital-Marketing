{
 "cells": [
  {
   "cell_type": "code",
   "execution_count": 4,
   "id": "7fd49f18-e198-4113-b20a-8d2f0ebfb37a",
   "metadata": {},
   "outputs": [],
   "source": [
    "import pandas as pd\n",
    "import matplotlib.pyplot as plt\n",
    "from sklearn import cluster\n",
    "from sklearn import decomposition\n",
    "\n",
    "%matplotlib inline"
   ]
  },
  {
   "cell_type": "code",
   "execution_count": 5,
   "id": "2b13d12c-31e7-4adb-bf2a-287c79aa537a",
   "metadata": {},
   "outputs": [
    {
     "data": {
      "text/html": [
       "<div>\n",
       "<style scoped>\n",
       "    .dataframe tbody tr th:only-of-type {\n",
       "        vertical-align: middle;\n",
       "    }\n",
       "\n",
       "    .dataframe tbody tr th {\n",
       "        vertical-align: top;\n",
       "    }\n",
       "\n",
       "    .dataframe thead th {\n",
       "        text-align: right;\n",
       "    }\n",
       "</style>\n",
       "<table border=\"1\" class=\"dataframe\">\n",
       "  <thead>\n",
       "    <tr style=\"text-align: right;\">\n",
       "      <th></th>\n",
       "      <th>income</th>\n",
       "      <th>age</th>\n",
       "      <th>days_since_purchase</th>\n",
       "    </tr>\n",
       "  </thead>\n",
       "  <tbody>\n",
       "    <tr>\n",
       "      <th>0</th>\n",
       "      <td>56432</td>\n",
       "      <td>31</td>\n",
       "      <td>492</td>\n",
       "    </tr>\n",
       "    <tr>\n",
       "      <th>1</th>\n",
       "      <td>137580</td>\n",
       "      <td>38</td>\n",
       "      <td>551</td>\n",
       "    </tr>\n",
       "    <tr>\n",
       "      <th>2</th>\n",
       "      <td>68285</td>\n",
       "      <td>59</td>\n",
       "      <td>304</td>\n",
       "    </tr>\n",
       "    <tr>\n",
       "      <th>3</th>\n",
       "      <td>93617</td>\n",
       "      <td>51</td>\n",
       "      <td>507</td>\n",
       "    </tr>\n",
       "    <tr>\n",
       "      <th>4</th>\n",
       "      <td>113441</td>\n",
       "      <td>54</td>\n",
       "      <td>509</td>\n",
       "    </tr>\n",
       "  </tbody>\n",
       "</table>\n",
       "</div>"
      ],
      "text/plain": [
       "   income  age  days_since_purchase\n",
       "0   56432   31                  492\n",
       "1  137580   38                  551\n",
       "2   68285   59                  304\n",
       "3   93617   51                  507\n",
       "4  113441   54                  509"
      ]
     },
     "execution_count": 5,
     "metadata": {},
     "output_type": "execute_result"
    }
   ],
   "source": [
    "df = pd.read_csv(r\"C:\\Users\\kevda\\Desktop\\ex_github\\Data-Science-for-Marketing-Analytics\\Data set 03\\three_col.csv\")\n",
    "df.head()"
   ]
  },
  {
   "cell_type": "code",
   "execution_count": 6,
   "id": "98f8c7a5-71a5-48fb-9bd9-10d265babc76",
   "metadata": {},
   "outputs": [],
   "source": [
    "colomns = df.columns\n",
    "zcolomns = []\n",
    "\n",
    "for col in colomns:\n",
    "    df['z_' + col] = (df[col]-df[col].mean())/df[col].std()\n",
    "    zcolomns.append('z_' + col)"
   ]
  },
  {
   "cell_type": "code",
   "execution_count": 7,
   "id": "cf351b71-d9dd-44b3-97f7-8d38d13fecfd",
   "metadata": {},
   "outputs": [
    {
     "data": {
      "text/plain": [
       "['z_income', 'z_age', 'z_days_since_purchase']"
      ]
     },
     "execution_count": 7,
     "metadata": {},
     "output_type": "execute_result"
    }
   ],
   "source": [
    "zcolomns"
   ]
  },
  {
   "cell_type": "code",
   "execution_count": 8,
   "id": "fc3a1980-44fa-4c3f-9426-0faafe46b86c",
   "metadata": {},
   "outputs": [
    {
     "data": {
      "text/html": [
       "<div>\n",
       "<style scoped>\n",
       "    .dataframe tbody tr th:only-of-type {\n",
       "        vertical-align: middle;\n",
       "    }\n",
       "\n",
       "    .dataframe tbody tr th {\n",
       "        vertical-align: top;\n",
       "    }\n",
       "\n",
       "    .dataframe thead th {\n",
       "        text-align: right;\n",
       "    }\n",
       "</style>\n",
       "<table border=\"1\" class=\"dataframe\">\n",
       "  <thead>\n",
       "    <tr style=\"text-align: right;\">\n",
       "      <th></th>\n",
       "      <th>income</th>\n",
       "      <th>age</th>\n",
       "      <th>days_since_purchase</th>\n",
       "      <th>z_income</th>\n",
       "      <th>z_age</th>\n",
       "      <th>z_days_since_purchase</th>\n",
       "    </tr>\n",
       "  </thead>\n",
       "  <tbody>\n",
       "    <tr>\n",
       "      <th>0</th>\n",
       "      <td>56432</td>\n",
       "      <td>31</td>\n",
       "      <td>492</td>\n",
       "      <td>-0.606833</td>\n",
       "      <td>-0.748848</td>\n",
       "      <td>0.818321</td>\n",
       "    </tr>\n",
       "    <tr>\n",
       "      <th>1</th>\n",
       "      <td>137580</td>\n",
       "      <td>38</td>\n",
       "      <td>551</td>\n",
       "      <td>1.505879</td>\n",
       "      <td>-0.135469</td>\n",
       "      <td>1.349109</td>\n",
       "    </tr>\n",
       "    <tr>\n",
       "      <th>2</th>\n",
       "      <td>68285</td>\n",
       "      <td>59</td>\n",
       "      <td>304</td>\n",
       "      <td>-0.298237</td>\n",
       "      <td>1.704668</td>\n",
       "      <td>-0.873001</td>\n",
       "    </tr>\n",
       "    <tr>\n",
       "      <th>3</th>\n",
       "      <td>93617</td>\n",
       "      <td>51</td>\n",
       "      <td>507</td>\n",
       "      <td>0.361289</td>\n",
       "      <td>1.003663</td>\n",
       "      <td>0.953267</td>\n",
       "    </tr>\n",
       "    <tr>\n",
       "      <th>4</th>\n",
       "      <td>113441</td>\n",
       "      <td>54</td>\n",
       "      <td>509</td>\n",
       "      <td>0.877413</td>\n",
       "      <td>1.266540</td>\n",
       "      <td>0.971260</td>\n",
       "    </tr>\n",
       "  </tbody>\n",
       "</table>\n",
       "</div>"
      ],
      "text/plain": [
       "   income  age  days_since_purchase  z_income     z_age  z_days_since_purchase\n",
       "0   56432   31                  492 -0.606833 -0.748848               0.818321\n",
       "1  137580   38                  551  1.505879 -0.135469               1.349109\n",
       "2   68285   59                  304 -0.298237  1.704668              -0.873001\n",
       "3   93617   51                  507  0.361289  1.003663               0.953267\n",
       "4  113441   54                  509  0.877413  1.266540               0.971260"
      ]
     },
     "execution_count": 8,
     "metadata": {},
     "output_type": "execute_result"
    }
   ],
   "source": [
    "df.head()"
   ]
  },
  {
   "cell_type": "code",
   "execution_count": 9,
   "id": "5803ddec-3ca0-48a8-b760-36023e7b070b",
   "metadata": {},
   "outputs": [],
   "source": [
    "model = cluster.KMeans(n_clusters=4, random_state=10)\n",
    "df['cluster'] = model.fit_predict(df[zcolomns])"
   ]
  },
  {
   "cell_type": "code",
   "execution_count": 10,
   "id": "04a8a41b-c0c3-4631-b928-39898b08fa33",
   "metadata": {},
   "outputs": [],
   "source": [
    "pca = decomposition.PCA(n_components=2)\n",
    "df['pca1'],df['pca2'] = zip(*pca.fit_transform(df[zcolomns]))"
   ]
  },
  {
   "cell_type": "code",
   "execution_count": 11,
   "id": "8f3dd3dd-cb97-4a87-b60a-e783fd4a0b26",
   "metadata": {},
   "outputs": [
    {
     "data": {
      "image/png": "[encoded data removed]",
      "text/plain": [
       "<Figure size 432x288 with 1 Axes>"
      ]
     },
     "metadata": {
      "needs_background": "light"
     },
     "output_type": "display_data"
    }
   ],
   "source": [
    "color= ['r','b','k','g']\n",
    "\n",
    "for c in df['cluster'].unique():\n",
    "    d = df[df['cluster']==c]\n",
    "    plt.scatter(d['pca1'],d['pca2'], color=color[c])\n",
    "\n",
    "plt.xlabel('Income')\n",
    "plt.ylabel('Age')   \n",
    "plt.show()"
   ]
  },
  {
   "cell_type": "code",
   "execution_count": 12,
   "id": "056eb3b7-5aa0-4908-aa39-92ba6627b789",
   "metadata": {},
   "outputs": [
    {
     "name": "stdout",
     "output_type": "stream",
     "text": [
      "cluster: 0\n",
      "income:46153.196787\n",
      "age:29.341365\n",
      "days_since_purchase:498.188755\n",
      "cluster: 3\n",
      "income:113118.222222\n",
      "age:49.769841\n",
      "days_since_purchase:502.583333\n",
      "cluster: 2\n",
      "income:45002.099602\n",
      "age:49.490040\n",
      "days_since_purchase:299.661355\n",
      "cluster: 1\n",
      "income:114704.120968\n",
      "age:29.338710\n",
      "days_since_purchase:302.919355\n"
     ]
    }
   ],
   "source": [
    "for cluster in df['cluster'].unique():\n",
    "    print('cluster: '+ str(cluster))\n",
    "    for col in colomns:\n",
    "        print(col + \":{:2f}\".format(df.loc[df['cluster']==cluster,col].mean()))"
   ]
  }
 ],
 "metadata": {
  "kernelspec": {
   "display_name": "Python 3",
   "language": "python",
   "name": "python3"
  },
  "language_info": {
   "codemirror_mode": {
    "name": "ipython",
    "version": 3
   },
   "file_extension": ".py",
   "mimetype": "text/x-python",
   "name": "python",
   "nbconvert_exporter": "python",
   "pygments_lexer": "ipython3",
   "version": "3.8.8"
  }
 },
 "nbformat": 4,
 "nbformat_minor": 5
}
